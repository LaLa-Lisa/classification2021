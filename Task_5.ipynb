{
 "cells": [
  {
   "cell_type": "markdown",
   "metadata": {},
   "source": [
    "## Часть 1\n",
    "Напишите скрипт, который скачивает  сообщения с Телеграм-канала https://t.me/Sputnik_results . Сохраните сообщения в формате по вашему выбору (.csv, .jsonl, sqlite, parquet, и т.д.). Откройте с помощью Pandas или Arrow, постройте график числа сообщений в зависимости от даты. "
   ]
  },
  {
   "cell_type": "markdown",
   "metadata": {},
   "source": [
    "### Часть 2\n",
    "1.Напишите функции для извлечения данных из сообщений:\n",
    "   - пол участника\n",
    "   - возраст участника\n",
    "\n",
    "   Постройте диаграммы для визуализации. \n",
    "\n",
    "2.Реализуйте какой-либо анализ этих данных на ваше усмотрение. Например их можно кластеризовать и интерпретировать кластеры, или попробовать выделить статистику по среднему количеству антител в зависимости от возраста, или посчитать количество заболевших после вакцинации. Обязательная визуализация. "
   ]
  },
  {
   "cell_type": "code",
   "execution_count": 91,
   "metadata": {},
   "outputs": [],
   "source": [
    "import nest_asyncio\n",
    "nest_asyncio.apply()"
   ]
  },
  {
   "cell_type": "code",
   "execution_count": 92,
   "metadata": {},
   "outputs": [
    {
     "name": "stderr",
     "output_type": "stream",
     "text": [
      "C:\\Users\\NATUSA~1\\AppData\\Local\\Temp/ipykernel_15420/1740606310.py:28: RuntimeWarning: coroutine 'AuthMethods._start' was never awaited\n",
      "  client.start()\n",
      "RuntimeWarning: Enable tracemalloc to get the object allocation traceback\n"
     ]
    },
    {
     "ename": "ValueError",
     "evalue": "Cannot find any entity corresponding to \"\"",
     "output_type": "error",
     "traceback": [
      "\u001b[1;31m---------------------------------------------------------------------------\u001b[0m",
      "\u001b[1;31mValueError\u001b[0m                                Traceback (most recent call last)",
      "\u001b[1;32mC:\\Users\\NATUSA~1\\AppData\\Local\\Temp/ipykernel_15420/1740606310.py\u001b[0m in \u001b[0;36m<module>\u001b[1;34m\u001b[0m\n\u001b[0;32m    106\u001b[0m \u001b[1;33m\u001b[0m\u001b[0m\n\u001b[0;32m    107\u001b[0m \u001b[1;32masync\u001b[0m \u001b[1;32mwith\u001b[0m \u001b[0mclient\u001b[0m\u001b[1;33m:\u001b[0m\u001b[1;33m\u001b[0m\u001b[1;33m\u001b[0m\u001b[0m\n\u001b[1;32m--> 108\u001b[1;33m         \u001b[0mclient\u001b[0m\u001b[1;33m.\u001b[0m\u001b[0mloop\u001b[0m\u001b[1;33m.\u001b[0m\u001b[0mrun_until_complete\u001b[0m\u001b[1;33m(\u001b[0m\u001b[0mmain\u001b[0m\u001b[1;33m(\u001b[0m\u001b[1;33m)\u001b[0m\u001b[1;33m)\u001b[0m\u001b[1;33m\u001b[0m\u001b[1;33m\u001b[0m\u001b[0m\n\u001b[0m",
      "\u001b[1;32mc:\\Users\\Natusa-Aki\\Desktop\\tasks\\env\\lib\\site-packages\\nest_asyncio.py\u001b[0m in \u001b[0;36mrun_until_complete\u001b[1;34m(self, future)\u001b[0m\n\u001b[0;32m     79\u001b[0m                 raise RuntimeError(\n\u001b[0;32m     80\u001b[0m                     'Event loop stopped before Future completed.')\n\u001b[1;32m---> 81\u001b[1;33m             \u001b[1;32mreturn\u001b[0m \u001b[0mf\u001b[0m\u001b[1;33m.\u001b[0m\u001b[0mresult\u001b[0m\u001b[1;33m(\u001b[0m\u001b[1;33m)\u001b[0m\u001b[1;33m\u001b[0m\u001b[1;33m\u001b[0m\u001b[0m\n\u001b[0m\u001b[0;32m     82\u001b[0m \u001b[1;33m\u001b[0m\u001b[0m\n\u001b[0;32m     83\u001b[0m     \u001b[1;32mdef\u001b[0m \u001b[0m_run_once\u001b[0m\u001b[1;33m(\u001b[0m\u001b[0mself\u001b[0m\u001b[1;33m)\u001b[0m\u001b[1;33m:\u001b[0m\u001b[1;33m\u001b[0m\u001b[1;33m\u001b[0m\u001b[0m\n",
      "\u001b[1;32mF:\\Boku no Papuka\\Programs\\Python\\lib\\asyncio\\futures.py\u001b[0m in \u001b[0;36mresult\u001b[1;34m(self)\u001b[0m\n\u001b[0;32m    199\u001b[0m         \u001b[0mself\u001b[0m\u001b[1;33m.\u001b[0m\u001b[0m__log_traceback\u001b[0m \u001b[1;33m=\u001b[0m \u001b[1;32mFalse\u001b[0m\u001b[1;33m\u001b[0m\u001b[1;33m\u001b[0m\u001b[0m\n\u001b[0;32m    200\u001b[0m         \u001b[1;32mif\u001b[0m \u001b[0mself\u001b[0m\u001b[1;33m.\u001b[0m\u001b[0m_exception\u001b[0m \u001b[1;32mis\u001b[0m \u001b[1;32mnot\u001b[0m \u001b[1;32mNone\u001b[0m\u001b[1;33m:\u001b[0m\u001b[1;33m\u001b[0m\u001b[1;33m\u001b[0m\u001b[0m\n\u001b[1;32m--> 201\u001b[1;33m             \u001b[1;32mraise\u001b[0m \u001b[0mself\u001b[0m\u001b[1;33m.\u001b[0m\u001b[0m_exception\u001b[0m\u001b[1;33m\u001b[0m\u001b[1;33m\u001b[0m\u001b[0m\n\u001b[0m\u001b[0;32m    202\u001b[0m         \u001b[1;32mreturn\u001b[0m \u001b[0mself\u001b[0m\u001b[1;33m.\u001b[0m\u001b[0m_result\u001b[0m\u001b[1;33m\u001b[0m\u001b[1;33m\u001b[0m\u001b[0m\n\u001b[0;32m    203\u001b[0m \u001b[1;33m\u001b[0m\u001b[0m\n",
      "\u001b[1;32mF:\\Boku no Papuka\\Programs\\Python\\lib\\asyncio\\tasks.py\u001b[0m in \u001b[0;36m__step\u001b[1;34m(***failed resolving arguments***)\u001b[0m\n\u001b[0;32m    254\u001b[0m                 \u001b[1;31m# We use the `send` method directly, because coroutines\u001b[0m\u001b[1;33m\u001b[0m\u001b[1;33m\u001b[0m\u001b[1;33m\u001b[0m\u001b[0m\n\u001b[0;32m    255\u001b[0m                 \u001b[1;31m# don't have `__iter__` and `__next__` methods.\u001b[0m\u001b[1;33m\u001b[0m\u001b[1;33m\u001b[0m\u001b[1;33m\u001b[0m\u001b[0m\n\u001b[1;32m--> 256\u001b[1;33m                 \u001b[0mresult\u001b[0m \u001b[1;33m=\u001b[0m \u001b[0mcoro\u001b[0m\u001b[1;33m.\u001b[0m\u001b[0msend\u001b[0m\u001b[1;33m(\u001b[0m\u001b[1;32mNone\u001b[0m\u001b[1;33m)\u001b[0m\u001b[1;33m\u001b[0m\u001b[1;33m\u001b[0m\u001b[0m\n\u001b[0m\u001b[0;32m    257\u001b[0m             \u001b[1;32melse\u001b[0m\u001b[1;33m:\u001b[0m\u001b[1;33m\u001b[0m\u001b[1;33m\u001b[0m\u001b[0m\n\u001b[0;32m    258\u001b[0m                 \u001b[0mresult\u001b[0m \u001b[1;33m=\u001b[0m \u001b[0mcoro\u001b[0m\u001b[1;33m.\u001b[0m\u001b[0mthrow\u001b[0m\u001b[1;33m(\u001b[0m\u001b[0mexc\u001b[0m\u001b[1;33m)\u001b[0m\u001b[1;33m\u001b[0m\u001b[1;33m\u001b[0m\u001b[0m\n",
      "\u001b[1;32mC:\\Users\\NATUSA~1\\AppData\\Local\\Temp/ipykernel_15420/1740606310.py\u001b[0m in \u001b[0;36mmain\u001b[1;34m()\u001b[0m\n\u001b[0;32m    100\u001b[0m \u001b[1;32masync\u001b[0m \u001b[1;32mdef\u001b[0m \u001b[0mmain\u001b[0m\u001b[1;33m(\u001b[0m\u001b[1;33m)\u001b[0m\u001b[1;33m:\u001b[0m\u001b[1;33m\u001b[0m\u001b[1;33m\u001b[0m\u001b[0m\n\u001b[0;32m    101\u001b[0m         \u001b[0murl\u001b[0m \u001b[1;33m=\u001b[0m \u001b[0minput\u001b[0m\u001b[1;33m(\u001b[0m\u001b[1;34m\"Введите ссылку на канал или чат: \"\u001b[0m\u001b[1;33m)\u001b[0m\u001b[1;33m\u001b[0m\u001b[1;33m\u001b[0m\u001b[0m\n\u001b[1;32m--> 102\u001b[1;33m         \u001b[0mchannel\u001b[0m \u001b[1;33m=\u001b[0m \u001b[1;32mawait\u001b[0m \u001b[0mclient\u001b[0m\u001b[1;33m.\u001b[0m\u001b[0mget_entity\u001b[0m\u001b[1;33m(\u001b[0m\u001b[0murl\u001b[0m\u001b[1;33m)\u001b[0m\u001b[1;33m\u001b[0m\u001b[1;33m\u001b[0m\u001b[0m\n\u001b[0m\u001b[0;32m    103\u001b[0m         \u001b[1;32mawait\u001b[0m \u001b[0mdump_all_participants\u001b[0m\u001b[1;33m(\u001b[0m\u001b[0mchannel\u001b[0m\u001b[1;33m)\u001b[0m\u001b[1;33m\u001b[0m\u001b[1;33m\u001b[0m\u001b[0m\n\u001b[0;32m    104\u001b[0m         \u001b[1;32mawait\u001b[0m \u001b[0mdump_all_messages\u001b[0m\u001b[1;33m(\u001b[0m\u001b[0mchannel\u001b[0m\u001b[1;33m)\u001b[0m\u001b[1;33m\u001b[0m\u001b[1;33m\u001b[0m\u001b[0m\n",
      "\u001b[1;32mc:\\Users\\Natusa-Aki\\Desktop\\tasks\\env\\lib\\site-packages\\telethon\\client\\users.py\u001b[0m in \u001b[0;36mget_entity\u001b[1;34m(self, entity)\u001b[0m\n\u001b[0;32m    333\u001b[0m         \u001b[1;32mfor\u001b[0m \u001b[0mx\u001b[0m \u001b[1;32min\u001b[0m \u001b[0minputs\u001b[0m\u001b[1;33m:\u001b[0m\u001b[1;33m\u001b[0m\u001b[1;33m\u001b[0m\u001b[0m\n\u001b[0;32m    334\u001b[0m             \u001b[1;32mif\u001b[0m \u001b[0misinstance\u001b[0m\u001b[1;33m(\u001b[0m\u001b[0mx\u001b[0m\u001b[1;33m,\u001b[0m \u001b[0mstr\u001b[0m\u001b[1;33m)\u001b[0m\u001b[1;33m:\u001b[0m\u001b[1;33m\u001b[0m\u001b[1;33m\u001b[0m\u001b[0m\n\u001b[1;32m--> 335\u001b[1;33m                 \u001b[0mresult\u001b[0m\u001b[1;33m.\u001b[0m\u001b[0mappend\u001b[0m\u001b[1;33m(\u001b[0m\u001b[1;32mawait\u001b[0m \u001b[0mself\u001b[0m\u001b[1;33m.\u001b[0m\u001b[0m_get_entity_from_string\u001b[0m\u001b[1;33m(\u001b[0m\u001b[0mx\u001b[0m\u001b[1;33m)\u001b[0m\u001b[1;33m)\u001b[0m\u001b[1;33m\u001b[0m\u001b[1;33m\u001b[0m\u001b[0m\n\u001b[0m\u001b[0;32m    336\u001b[0m             \u001b[1;32melif\u001b[0m \u001b[1;32mnot\u001b[0m \u001b[0misinstance\u001b[0m\u001b[1;33m(\u001b[0m\u001b[0mx\u001b[0m\u001b[1;33m,\u001b[0m \u001b[0mtypes\u001b[0m\u001b[1;33m.\u001b[0m\u001b[0mInputPeerSelf\u001b[0m\u001b[1;33m)\u001b[0m\u001b[1;33m:\u001b[0m\u001b[1;33m\u001b[0m\u001b[1;33m\u001b[0m\u001b[0m\n\u001b[0;32m    337\u001b[0m                 \u001b[0mresult\u001b[0m\u001b[1;33m.\u001b[0m\u001b[0mappend\u001b[0m\u001b[1;33m(\u001b[0m\u001b[0mid_entity\u001b[0m\u001b[1;33m[\u001b[0m\u001b[0mutils\u001b[0m\u001b[1;33m.\u001b[0m\u001b[0mget_peer_id\u001b[0m\u001b[1;33m(\u001b[0m\u001b[0mx\u001b[0m\u001b[1;33m)\u001b[0m\u001b[1;33m]\u001b[0m\u001b[1;33m)\u001b[0m\u001b[1;33m\u001b[0m\u001b[1;33m\u001b[0m\u001b[0m\n",
      "\u001b[1;32mc:\\Users\\Natusa-Aki\\Desktop\\tasks\\env\\lib\\site-packages\\telethon\\client\\users.py\u001b[0m in \u001b[0;36m_get_entity_from_string\u001b[1;34m(self, string)\u001b[0m\n\u001b[0;32m    572\u001b[0m                 \u001b[1;32mpass\u001b[0m\u001b[1;33m\u001b[0m\u001b[1;33m\u001b[0m\u001b[0m\n\u001b[0;32m    573\u001b[0m \u001b[1;33m\u001b[0m\u001b[0m\n\u001b[1;32m--> 574\u001b[1;33m         raise ValueError(\n\u001b[0m\u001b[0;32m    575\u001b[0m             \u001b[1;34m'Cannot find any entity corresponding to \"{}\"'\u001b[0m\u001b[1;33m.\u001b[0m\u001b[0mformat\u001b[0m\u001b[1;33m(\u001b[0m\u001b[0mstring\u001b[0m\u001b[1;33m)\u001b[0m\u001b[1;33m\u001b[0m\u001b[1;33m\u001b[0m\u001b[0m\n\u001b[0;32m    576\u001b[0m         )\n",
      "\u001b[1;31mValueError\u001b[0m: Cannot find any entity corresponding to \"\""
     ]
    }
   ],
   "source": [
    "import configparser\n",
    "import json\n",
    "\n",
    "from telethon.sync import TelegramClient\n",
    "from telethon import connection\n",
    "\n",
    "# для корректного переноса времени сообщений в json\n",
    "from datetime import date, datetime\n",
    "\n",
    "# классы для работы с каналами\n",
    "from telethon.tl.functions.channels import GetParticipantsRequest\n",
    "from telethon.tl.types import ChannelParticipantsSearch\n",
    "\n",
    "# класс для работы с сообщениями\n",
    "from telethon.tl.functions.messages import GetHistoryRequest\n",
    "\n",
    "# Считываем учетные данные\n",
    "config = configparser.ConfigParser()\n",
    "config.read(\"config.ini\")\n",
    "\n",
    "# Присваиваем значения внутренним переменным\n",
    "api_id   = config['Telegram']['api_id']\n",
    "api_hash = config['Telegram']['api_hash']\n",
    "username = config['Telegram']['username']\n",
    "\n",
    "client = TelegramClient(username, api_id, api_hash)\n",
    "\n",
    "client.start()\n",
    "\n",
    "\n",
    "async def dump_all_participants(channel):\n",
    "\t\"\"\"Записывает json-файл с информацией о всех участниках канала/чата\"\"\"\n",
    "\toffset_user = 0    # номер участника, с которого начинается считывание\n",
    "\tlimit_user = 100   # максимальное число записей, передаваемых за один раз\n",
    "\n",
    "\tall_participants = []   # список всех участников канала\n",
    "\tfilter_user = ChannelParticipantsSearch('')\n",
    "\n",
    "\twhile True:\n",
    "\t\tparticipants = await client(GetParticipantsRequest(channel,\n",
    "\t\t\tfilter_user, offset_user, limit_user, hash=0))\n",
    "\t\tif not participants.users:\n",
    "\t\t\tbreak\n",
    "\t\tall_participants.extend(participants.users)\n",
    "\t\toffset_user += len(participants.users)\n",
    "\n",
    "\tall_users_details = []   # список словарей с интересующими параметрами участников канала\n",
    "\n",
    "\tfor participant in all_participants:\n",
    "\t\tall_users_details.append({\"id\": participant.id,\n",
    "\t\t\t\"first_name\": participant.first_name,\n",
    "\t\t\t\"last_name\": participant.last_name,\n",
    "\t\t\t\"user\": participant.username,\n",
    "\t\t\t\"phone\": participant.phone,\n",
    "\t\t\t\"is_bot\": participant.bot})\n",
    "\n",
    "\twith open('channel_users.json', 'w', encoding='utf8') as outfile:\n",
    "\t\tjson.dump(all_users_details, outfile, ensure_ascii=False)\n",
    "\n",
    "\n",
    "async def dump_all_messages(channel):\n",
    "\t\"\"\"Записывает json-файл с информацией о всех сообщениях канала/чата\"\"\"\n",
    "\toffset_msg = 0    # номер записи, с которой начинается считывание\n",
    "\tlimit_msg = 100   # максимальное число записей, передаваемых за один раз\n",
    "\n",
    "\tall_messages = []   # список всех сообщений\n",
    "\ttotal_messages = 0\n",
    "\ttotal_count_limit = 0  # поменяйте это значение, если вам нужны не все сообщения\n",
    "\n",
    "\tclass DateTimeEncoder(json.JSONEncoder):\n",
    "\t\t'''Класс для сериализации записи дат в JSON'''\n",
    "\t\tdef default(self, o):\n",
    "\t\t\tif isinstance(o, datetime):\n",
    "\t\t\t\treturn o.isoformat()\n",
    "\t\t\tif isinstance(o, bytes):\n",
    "\t\t\t\treturn list(o)\n",
    "\t\t\treturn json.JSONEncoder.default(self, o)\n",
    "\n",
    "\twhile True:\n",
    "\t\thistory = await client(GetHistoryRequest(\n",
    "\t\t\tpeer=channel,\n",
    "\t\t\toffset_id=offset_msg,\n",
    "\t\t\toffset_date=None, add_offset=0,\n",
    "\t\t\tlimit=limit_msg, max_id=0, min_id=0,\n",
    "\t\t\thash=0))\n",
    "\t\tif not history.messages:\n",
    "\t\t\tbreak\n",
    "\t\tmessages = history.messages\n",
    "\t\tfor message in messages:\n",
    "\t\t\tall_messages.append(message.to_dict())\n",
    "\t\toffset_msg = messages[len(messages) - 1].id\n",
    "\t\ttotal_messages = len(all_messages)\n",
    "\t\tif total_count_limit != 0 and total_messages >= total_count_limit:\n",
    "\t\t\tbreak\n",
    "\n",
    "\twith open('channel_messages.json', 'w', encoding='utf8') as outfile:\n",
    "\t\t json.dump(all_messages, outfile, ensure_ascii=False, cls=DateTimeEncoder)\n",
    "\n",
    "\n",
    "async def main():\n",
    "\turl = input(\"Введите ссылку на канал или чат: \")\n",
    "\tchannel = await client.get_entity(url)\n",
    "\tawait dump_all_participants(channel)\n",
    "\tawait dump_all_messages(channel)\n",
    "\n",
    "\n",
    "async with client:\n",
    "\tclient.loop.run_until_complete(main())"
   ]
  },
  {
   "cell_type": "code",
   "execution_count": 93,
   "metadata": {},
   "outputs": [],
   "source": [
    "import pandas as pd\n",
    "row_data = pd.read_json('channel_messages.json')"
   ]
  },
  {
   "cell_type": "code",
   "execution_count": 94,
   "metadata": {},
   "outputs": [
    {
     "name": "stderr",
     "output_type": "stream",
     "text": [
      "C:\\Users\\NATUSA~1\\AppData\\Local\\Temp/ipykernel_15420/842120234.py:4: SettingWithCopyWarning: \n",
      "A value is trying to be set on a copy of a slice from a DataFrame.\n",
      "Try using .loc[row_indexer,col_indexer] = value instead\n",
      "\n",
      "See the caveats in the documentation: https://pandas.pydata.org/pandas-docs/stable/user_guide/indexing.html#returning-a-view-versus-a-copy\n",
      "  data['date'] = pd.to_datetime(data['date']).dt.date\n"
     ]
    },
    {
     "data": {
      "text/plain": [
       "[<matplotlib.lines.Line2D at 0x20381f74490>]"
      ]
     },
     "execution_count": 94,
     "metadata": {},
     "output_type": "execute_result"
    },
    {
     "data": {
      "image/png": "[encoded data removed]",
      "text/plain": [
       "<Figure size 432x288 with 1 Axes>"
      ]
     },
     "metadata": {
      "needs_background": "light"
     },
     "output_type": "display_data"
    }
   ],
   "source": [
    "import matplotlib.pyplot as plt\n",
    "\n",
    "data = row_data[['date', 'message']]\n",
    "data['date'] = pd.to_datetime(data['date']).dt.date\n",
    "\n",
    "plot_data = data.groupby(['date']).count()\n",
    "\n",
    "plt.plot(plot_data)"
   ]
  },
  {
   "cell_type": "code",
   "execution_count": 95,
   "metadata": {},
   "outputs": [
    {
     "name": "stdout",
     "output_type": "stream",
     "text": [
      "women  8459\n",
      "men  5180\n"
     ]
    },
    {
     "name": "stderr",
     "output_type": "stream",
     "text": [
      "C:\\Users\\NATUSA~1\\AppData\\Local\\Temp/ipykernel_15420/2604743273.py:26: SettingWithCopyWarning: \n",
      "A value is trying to be set on a copy of a slice from a DataFrame.\n",
      "Try using .loc[row_indexer,col_indexer] = value instead\n",
      "\n",
      "See the caveats in the documentation: https://pandas.pydata.org/pandas-docs/stable/user_guide/indexing.html#returning-a-view-versus-a-copy\n",
      "  data['age'] = pd.Series(ages, dtype='int64')\n"
     ]
    },
    {
     "data": {
      "image/png": "[encoded data removed]",
      "text/plain": [
       "<Figure size 432x288 with 1 Axes>"
      ]
     },
     "metadata": {},
     "output_type": "display_data"
    }
   ],
   "source": [
    "\n",
    "import re\n",
    "men_count = 0\n",
    "women_count = 0\n",
    "ages = []\n",
    "for i in data['message'].values:\n",
    "    if pd.isna(i): \n",
    "        ages.append(-1)\n",
    "        continue\n",
    "    menkeys = re.compile(r'\\b[Мм]..?\\d\\d|\\b[Мм]\\d\\d|\\b[Мм]уж.+\\d\\d\\B|[Мм]ужчина').findall(i)\n",
    "    womkeys = re.compile(r'\\b[Жж]..?\\d\\d|\\b[Жж]\\d\\d|\\b[Жж]ен.+\\d\\d\\B|[Жж]енщина').findall(i)\n",
    "    agekeys = re.compile(r'\\b[МмЖж]..?\\d\\d|\\b[МмЖж]\\d\\d|\\b\\d\\d\\sгода?|\\b\\d\\d\\sлет|\\b[Мм]не \\d\\d').findall(i)\n",
    "    if agekeys: \n",
    "        s = agekeys[-1][-2:]\n",
    "        if s.isdigit():\n",
    "            ages.append(int(s))\n",
    "        else: \n",
    "            s = agekeys[-1][:1]\n",
    "            if s.isdigit():\n",
    "                ages.append(int(s))\n",
    "    else:\n",
    "        ages.append(-1)\n",
    "    if not menkeys and womkeys:\n",
    "        women_count += 1\n",
    "    if menkeys and not womkeys:\n",
    "        men_count += 1\n",
    "data['age'] = pd.Series(ages, dtype='int64')\n",
    "\n",
    "print('women ', women_count)\n",
    "print('men ', men_count)\n",
    "plt.pie([men_count, women_count], autopct='%.1f')\n",
    "plt.legend(['мужчины', 'женщины'])\n",
    "plt.show()\n",
    "\n"
   ]
  },
  {
   "cell_type": "code",
   "execution_count": 96,
   "metadata": {},
   "outputs": [
    {
     "data": {
      "text/plain": [
       "array([[<AxesSubplot:title={'center':'age'}>]], dtype=object)"
      ]
     },
     "execution_count": 96,
     "metadata": {},
     "output_type": "execute_result"
    },
    {
     "data": {
      "image/png": "[encoded data removed]",
      "text/plain": [
       "<Figure size 432x288 with 1 Axes>"
      ]
     },
     "metadata": {
      "needs_background": "light"
     },
     "output_type": "display_data"
    }
   ],
   "source": [
    "data[(data['age'] > 18) & (data['age'] < 90)].hist()\n"
   ]
  },
  {
   "cell_type": "code",
   "execution_count": 153,
   "metadata": {},
   "outputs": [
    {
     "name": "stderr",
     "output_type": "stream",
     "text": [
      "C:\\Users\\NATUSA~1\\AppData\\Local\\Temp/ipykernel_15420/4072667515.py:15: SettingWithCopyWarning: \n",
      "A value is trying to be set on a copy of a slice from a DataFrame.\n",
      "Try using .loc[row_indexer,col_indexer] = value instead\n",
      "\n",
      "See the caveats in the documentation: https://pandas.pydata.org/pandas-docs/stable/user_guide/indexing.html#returning-a-view-versus-a-copy\n",
      "  data['desease'] = pd.Series(isdes, dtype='bool')\n"
     ]
    },
    {
     "data": {
      "image/png": "[encoded data removed]",
      "text/plain": [
       "<Figure size 432x288 with 1 Axes>"
      ]
     },
     "metadata": {
      "needs_background": "light"
     },
     "output_type": "display_data"
    }
   ],
   "source": [
    "import numpy as np\n",
    "import seaborn as sns\n",
    "import matplotlib.pyplot as plt\n",
    "\n",
    "isdes = []\n",
    "for i in data['message'].values:\n",
    "    if pd.isna(i): \n",
    "        isdes.append(0)\n",
    "        continue\n",
    "    deskeys = re.compile(r'\\b[Зз]абол|[Чч]увств[\\s\\S]*плох|ху[жд]').findall(i)\n",
    "    if deskeys:\n",
    "        isdes.append(1)\n",
    "    else:\n",
    "        isdes.append(0)\n",
    "data['desease'] = pd.Series(isdes, dtype='bool')\n",
    "#plt.bar(data['age'], data, color = 'red', label = '2016',zorder = 2)\n",
    "plot_data = data[(data['desease'] == 1) & (data['age'] > 18) & (data['age'] < 70)].groupby('age').count()\n",
    "plot_data2 = data[(data['desease'] == 0) & (data['age'] > 18)& (data['age'] < 70)].groupby('age').count()\n",
    "\n",
    "a = plot_data2['desease'].values.tolist()\n",
    "b = plot_data['desease'].values.tolist()\n",
    "\n",
    "sum = dict()\n",
    "sum['algs_values'] = a + b\n",
    "sum['iter'] = list(range(18, 17+len(a) + 1)) * 2\n",
    "res = ['не болели' for _ in range(len(a))]\n",
    "for i in range(len(a)):\n",
    "    res.append('болели')\n",
    "sum['algorithms'] = res \n",
    "\n",
    "\n",
    "sns.barplot(data=sum, x='iter', y='algs_values', hue='algorithms', palette=\"hls\")\n",
    "plt.show()"
   ]
  },
  {
   "cell_type": "code",
   "execution_count": null,
   "metadata": {},
   "outputs": [],
   "source": []
  }
 ],
 "metadata": {
  "kernelspec": {
   "display_name": "Python 3",
   "language": "python",
   "name": "python3"
  },
  "language_info": {
   "codemirror_mode": {
    "name": "ipython",
    "version": 3
   },
   "file_extension": ".py",
   "mimetype": "text/x-python",
   "name": "python",
   "nbconvert_exporter": "python",
   "pygments_lexer": "ipython3",
   "version": "3.9.0"
  }
 },
 "nbformat": 4,
 "nbformat_minor": 4
}
