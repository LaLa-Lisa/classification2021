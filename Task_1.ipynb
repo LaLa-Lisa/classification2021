{
 "cells": [
  {
   "cell_type": "markdown",
   "metadata": {},
   "source": [
    "# Задание 1\n",
    "\n",
    "[Свертка списка](https://ru.wikipedia.org/wiki/%D0%A1%D0%B2%D1%91%D1%80%D1%82%D0%BA%D0%B0_%D1%81%D0%BF%D0%B8%D1%81%D0%BA%D0%B0) -  это обобщенная операция над списком, c помощью которой можно преобразовать список в единое значение. Например, рассмотрим реализации свертки слева и свертки справа (левоассоциативную свертку и правоассоциативную свертку):"
   ]
  },
  {
   "cell_type": "code",
   "execution_count": 2,
   "metadata": {
    "collapsed": true,
    "jupyter": {
     "outputs_hidden": true
    }
   },
   "outputs": [],
   "source": [
    "def foldl(f, x0, lst):\n",
    "    if not lst:\n",
    "        return x0\n",
    "    return foldl(f, f(x0, lst[0]), lst[1:])\n",
    "\n",
    "def foldr(f, x0, lst):\n",
    "    if not lst:\n",
    "        return x0\n",
    "    return f(lst[0], foldr(f, x0, lst[1:]))"
   ]
  },
  {
   "cell_type": "code",
   "execution_count": 3,
   "metadata": {},
   "outputs": [
    {
     "data": {
      "text/plain": [
       "6"
      ]
     },
     "execution_count": 3,
     "metadata": {},
     "output_type": "execute_result"
    }
   ],
   "source": [
    "#сумма\n",
    "foldl(lambda x, y: x + y, 0, [1, 2, 3])"
   ]
  },
  {
   "cell_type": "code",
   "execution_count": 4,
   "metadata": {},
   "outputs": [
    {
     "data": {
      "text/plain": [
       "'123'"
      ]
     },
     "execution_count": 4,
     "metadata": {},
     "output_type": "execute_result"
    }
   ],
   "source": [
    "#конкатенация\n",
    "foldl(lambda x, y: '{}{}'.format(x, y), '', [1, 2, 3])"
   ]
  },
  {
   "cell_type": "code",
   "execution_count": 5,
   "metadata": {},
   "outputs": [
    {
     "data": {
      "text/plain": [
       "(0.16666666666666666, 1.5)"
      ]
     },
     "execution_count": 5,
     "metadata": {},
     "output_type": "execute_result"
    }
   ],
   "source": [
    "f = lambda x, y: x / y\n",
    "foldl(f, 1, [1, 2, 3]), \\\n",
    "foldr(f, 1, [1, 2, 3])"
   ]
  },
  {
   "cell_type": "markdown",
   "metadata": {},
   "source": [
    "Задача: реализовать foldl через foldr и наоборот. Вместо многоточий нужно вставить выражения, которые бы привели к нужному результату. Модифицировать сам список нельзя. "
   ]
  },
  {
   "cell_type": "code",
   "execution_count": 6,
   "metadata": {
    "collapsed": true,
    "jupyter": {
     "outputs_hidden": true
    }
   },
   "outputs": [],
   "source": [
    "def foldl2(f, x0, lst):\n",
    "    return foldr(..., ..., lst)(...)"
   ]
  },
  {
   "cell_type": "code",
   "execution_count": 7,
   "metadata": {
    "collapsed": true,
    "jupyter": {
     "outputs_hidden": true
    }
   },
   "outputs": [],
   "source": [
    "def foldr2(f, x0, lst):\n",
    "    return foldl(..., ..., lst)(...)"
   ]
  },
  {
   "cell_type": "markdown",
   "metadata": {},
   "source": [
    "# Задание 2\n",
    "\n",
    "нужно написать функцию, которая принимает две строки и проверяет, входит ли хотя бы одна перестановка второй строки в первую. Например:\n",
    "\n",
    "> a = 'abcrotm'\n",
    "> \n",
    "> b = 'tro'\n",
    "\n",
    "функция def check_inv(a, b) вернет True, так как 'rot' содержится в 'abcrotm'. Нужно подумать как можно более оптимальный алгоритм и оценить его сложность. "
   ]
  },
  {
   "cell_type": "code",
   "execution_count": 54,
   "metadata": {
    "collapsed": true,
    "jupyter": {
     "outputs_hidden": true
    }
   },
   "outputs": [
    {
     "data": {
      "text/plain": [
       "True"
      ]
     },
     "execution_count": 54,
     "metadata": {},
     "output_type": "execute_result"
    }
   ],
   "source": [
    "def check_inv(a, b):\n",
    "    a_dict = {a[i]: i for i in range(len(a))}\n",
    "    max_index = a_dict[max(b, key = lambda x: a_dict[x])]\n",
    "    min_index = a_dict[min(b, key = lambda x: a_dict[x])]\n",
    "    if max_index - min_index == len(b) - 1:\n",
    "        return True\n",
    "    return False\n",
    "check_inv('abcrotm', 'tro')"
   ]
  },
  {
   "cell_type": "markdown",
   "metadata": {},
   "source": [
    "# Задание 3\n",
    "\n",
    "Реализовать бинарное дерево (класс Tree), в нём методы __repr__, __str__, __iter__ (итерация только по листьям)."
   ]
  },
  {
   "cell_type": "code",
   "execution_count": 61,
   "metadata": {},
   "outputs": [
    {
     "name": "stdout",
     "output_type": "stream",
     "text": [
      "                                 0\n",
      "                 1                 2\n",
      "         3         4\n",
      "\n"
     ]
    }
   ],
   "source": [
    "class Tree:\n",
    "    def __init__(self, value=None, left=None, right=None):\n",
    "        self.left = left\n",
    "        self.right = right\n",
    "        self.value = value\n",
    "        \n",
    "    def __iter__(self):\n",
    "        if self.left != None:\n",
    "            for i in self.left:\n",
    "                yield i\n",
    "        else:\n",
    "            yield self.value\n",
    "        if self.right != None:\n",
    "            for i in self.right:\n",
    "                yield i\n",
    "        pass\n",
    "    \n",
    "    def __str__(self):\n",
    "        now = [self]\n",
    "        res = ''\n",
    "        a = '                                                                '\n",
    "        while now:\n",
    "            next = list()\n",
    "            a = a[:len(a)//2+1]\n",
    "            for i in now:\n",
    "                res += a + str(i.value)\n",
    "                if i.left: next.append(i.left)\n",
    "                if i.right: next.append(i.right)\n",
    "            \n",
    "            now = next\n",
    "            res += '\\n'\n",
    "        return res\n",
    "        pass\n",
    "    \n",
    "    def __repr__(self):\n",
    "        return \"tree(\" + str(self.value) + \", \" + str(self.left) + \", \" + str(self.right) + \")\"\n",
    "        pass\n",
    "    \n",
    "tree = Tree(0, Tree(1, Tree(3), Tree(4)),                             \n",
    "               Tree(2))\n",
    "\n",
    "list(tree) == [3, 4, 2]\n",
    "print(tree)\n"
   ]
  },
  {
   "cell_type": "code",
   "execution_count": null,
   "metadata": {},
   "outputs": [],
   "source": []
  },
  {
   "cell_type": "markdown",
   "metadata": {},
   "source": [
    "# Задание 4\n",
    "\n",
    "Реализовать простейший калькулятор математических выражений:\n",
    "- только целые числа\n",
    "- **+**, **\\-**, **\\***, **\\**\n",
    "- скобки\n",
    "\n",
    "**Можно использовать регулярные выражения**"
   ]
  },
  {
   "cell_type": "code",
   "execution_count": 53,
   "metadata": {},
   "outputs": [
    {
     "data": {
      "text/plain": [
       "True"
      ]
     },
     "execution_count": 53,
     "metadata": {},
     "output_type": "execute_result"
    }
   ],
   "source": [
    "nums = '1234567890'\n",
    "def get_num(expr):\n",
    "    if expr[0] not in nums: return -1\n",
    "    for i in range(len(expr)):\n",
    "        if expr[i] not in nums:\n",
    "            return i\n",
    "    return 1\n",
    "\n",
    "def calc(expr):\n",
    "    col = []\n",
    "    tex = []\n",
    "    i = 0\n",
    "    expr += ' '\n",
    "    while(i < len(expr)):\n",
    "        if(expr[i] == ' '):\n",
    "            i += 1\n",
    "            continue\n",
    "        num = get_num(expr[i:-1])\n",
    "        if num != -1:\n",
    "            col.append(expr[i:i + num])\n",
    "            i += num\n",
    "        else: \n",
    "            if expr[i] == '+' or expr[i] == '-':\n",
    "                if len(tex) == 0:\n",
    "                    tex.append(expr[i])\n",
    "                    i += 1\n",
    "                    continue\n",
    "                #1\n",
    "                if tex[-1] == '(':\n",
    "                    tex.append(expr[i])\n",
    "                    i += 1\n",
    "                    continue\n",
    "                #2\n",
    "                else:\n",
    "                    col.append(tex[-1])\n",
    "                    tex.pop()\n",
    "\n",
    "            if expr[i] == '*' or expr[i] == '/':\n",
    "                if len(tex) == 0:\n",
    "                    tex.append(expr[i])\n",
    "                    i += 1\n",
    "                    continue\n",
    "                #2\n",
    "                if tex[-1] == '*' or tex[-1] == '/':\n",
    "                    col.append(tex[-1])\n",
    "                    tex.pop()\n",
    "                    continue\n",
    "                #1\n",
    "                else:\n",
    "                    tex.append(expr[i])\n",
    "                    i += 1\n",
    "                    continue\n",
    "                    \n",
    "            if expr[i] == '(':\n",
    "                tex.append(expr[i])\n",
    "                i += 1\n",
    "                continue\n",
    "            if expr[i] == ')':\n",
    "                #3\n",
    "                if tex[-1] == '(':\n",
    "                    tex.pop()\n",
    "                    i+=1\n",
    "                    continue\n",
    "                #2\n",
    "                else:\n",
    "                    col.append(tex[-1])\n",
    "                    tex.pop()\n",
    "    col.append(tex[-1])\n",
    "    steck = []\n",
    "    for i in col:\n",
    "        if i[0] in nums:\n",
    "            steck.append(int(i))\n",
    "        else:\n",
    "            if i == '+':\n",
    "                steck[-2] += steck[-1]\n",
    "                steck.pop()\n",
    "            if i == '-':\n",
    "                steck[-2] -= steck[-1]\n",
    "                steck.pop()\n",
    "            if i == '*':\n",
    "                steck[-2] *= steck[-1]\n",
    "                steck.pop()\n",
    "            if i == '/':\n",
    "                steck[-2] /= steck[-1]\n",
    "                steck.pop()\n",
    "    return steck[-1]\n",
    "    \n",
    "\n",
    "calc('2 * (15 - 3 * 4) - 2') == 4\n",
    "#calc('(8+2*5)/(1+3*2-4)') \n"
   ]
  },
  {
   "cell_type": "code",
   "execution_count": null,
   "metadata": {
    "collapsed": true,
    "jupyter": {
     "outputs_hidden": true
    }
   },
   "outputs": [],
   "source": []
  }
 ],
 "metadata": {
  "kernelspec": {
   "display_name": "Python 3",
   "language": "python",
   "name": "python3"
  },
  "language_info": {
   "codemirror_mode": {
    "name": "ipython",
    "version": 3
   },
   "file_extension": ".py",
   "mimetype": "text/x-python",
   "name": "python",
   "nbconvert_exporter": "python",
   "pygments_lexer": "ipython3",
   "version": "3.9.0"
  }
 },
 "nbformat": 4,
 "nbformat_minor": 4
}
